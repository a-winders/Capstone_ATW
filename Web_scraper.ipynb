{
  "nbformat": 4,
  "nbformat_minor": 0,
  "metadata": {
    "colab": {
      "provenance": [],
      "authorship_tag": "ABX9TyOjL81KYZAqcZ0H5m9u9Cr/",
      "include_colab_link": true
    },
    "kernelspec": {
      "name": "python3",
      "display_name": "Python 3"
    },
    "language_info": {
      "name": "python"
    }
  },
  "cells": [
    {
      "cell_type": "markdown",
      "metadata": {
        "id": "view-in-github",
        "colab_type": "text"
      },
      "source": [
        "<a href=\"https://colab.research.google.com/github/a-winders/Capstone_ATW/blob/main/Web_scraper.ipynb\" target=\"_parent\"><img src=\"https://colab.research.google.com/assets/colab-badge.svg\" alt=\"Open In Colab\"/></a>"
      ]
    },
    {
      "cell_type": "markdown",
      "source": [
        "### Importing Libraries\n"
      ],
      "metadata": {
        "id": "4J2fCLC9zy8h"
      }
    },
    {
      "cell_type": "code",
      "source": [
        "import requests # makes HTTP requests\n",
        "from bs4 import BeautifulSoup # parses the HTML response\n",
        "from requests import get\n",
        "from warnings import warn\n",
        "from time import sleep\n",
        "from random import randint\n",
        "import seaborn as sns\n",
        "import numpy as np\n",
        "import pandas as pd\n",
        "import csv"
      ],
      "metadata": {
        "id": "RtDHW32Oz24v"
      },
      "execution_count": null,
      "outputs": []
    },
    {
      "cell_type": "markdown",
      "source": [
        "### Connect to Google Drive"
      ],
      "metadata": {
        "id": "YaijN8TCzUt5"
      }
    },
    {
      "cell_type": "code",
      "source": [
        "from google.colab import drive\n",
        "drive.mount('/content/gdrive')"
      ],
      "metadata": {
        "id": "GWmkaQ58zEEx",
        "colab": {
          "base_uri": "https://localhost:8080/"
        },
        "outputId": "77623444-bdc0-4a69-a2f6-ac722758b6b0"
      },
      "execution_count": null,
      "outputs": [
        {
          "output_type": "stream",
          "name": "stdout",
          "text": [
            "Mounted at /content/gdrive\n"
          ]
        }
      ]
    },
    {
      "cell_type": "markdown",
      "source": [
        "### Target URLs\n"
      ],
      "metadata": {
        "id": "OnldCRd50S4t"
      }
    },
    {
      "cell_type": "code",
      "source": [
        "# IMDb \"Top 250 Movies\"\n",
        "IMDb_URL = 'https://www.imdb.com/chart/top'\n",
        "\n",
        "# Rotten Tomatoes \"300 Essential Movies to Watch Now\"\n",
        "RottenTomatoes_URL = 'https://www.rottentomatoes.com/top/bestofrt/'"
      ],
      "metadata": {
        "id": "vZ7vxRS40W0i"
      },
      "execution_count": null,
      "outputs": []
    },
    {
      "cell_type": "markdown",
      "source": [
        "### Web Scraper"
      ],
      "metadata": {
        "id": "JGhoEXaI13wV"
      }
    },
    {
      "cell_type": "markdown",
      "source": [
        "Function to scrape target websites"
      ],
      "metadata": {
        "id": "npjY732V60nV"
      }
    },
    {
      "cell_type": "code",
      "source": [
        "# Function to scrape both target URLs\n",
        "def web_scraper():\n",
        "   \n",
        "    # Retrieves target IMDb page\n",
        "    imdb_response = requests.get(IMDb_URL)\n",
        "    imdb_soup = BeautifulSoup(imdb_response.content, 'html.parser')\n",
        "    imdb_movies = imdb_soup.select('.lister-list tr')\n",
        "\n",
        "    # Creates a list to store all collected movies\n",
        "    movies = []\n",
        "\n",
        "    # Scrapes IMDb target page for movie title, year, & rating\n",
        "    for movie in imdb_movies:\n",
        "        title_column = movie.select('.titleColumn')[0]\n",
        "        title = title_column.select('a')[0].text\n",
        "        year = title_column.select('.secondaryInfo')[0].text\n",
        "        rating = movie.select('.imdbRating')[0].text.strip()\n",
        "\n",
        "       # Instantiates new variables with collected IMDb info\n",
        "        movies.append({\n",
        "            'title': title,\n",
        "            'year': year,\n",
        "            'rating': rating,\n",
        "            'source': 'IMDb'\n",
        "        })\n",
        "\n",
        "    return movies   \n",
        "\n",
        "    # The path where the csv file will be saved\n",
        "path = \"/content/gdrive/MyDrive/Bellarmine/CS430_Data_Files/top_movies.csv\"\n",
        "\n",
        "# Open the csv file in write mode and specify the path\n",
        "with open(path, 'w', newline='') as file:\n",
        "    \n",
        "    # Create a csv writer object\n",
        "    writer = csv.writer(file)\n",
        "    \n",
        "    # Write the data to the csv file\n",
        "    writer.writerows(data)\n",
        "\n",
        "print(f\"Data saved to {path}\")"
      ],
      "metadata": {
        "id": "MJMeYyS82KbM",
        "colab": {
          "base_uri": "https://localhost:8080/"
        },
        "outputId": "1a41171c-ab66-4351-a59d-e2d106cd85dc"
      },
      "execution_count": null,
      "outputs": [
        {
          "output_type": "stream",
          "name": "stdout",
          "text": [
            "Data saved to /content/gdrive/MyDrive/Bellarmine/CS430_Data_Files/top_movies.csv\n"
          ]
        }
      ]
    },
    {
      "cell_type": "markdown",
      "source": [
        "Saves the retrieved movie info to a **.csv** file"
      ],
      "metadata": {
        "id": "xoQ_Psf4AZMf"
      }
    },
    {
      "cell_type": "code",
      "source": [
        "path = \"/content/gdrive/MyDrive/Bellarmine/CS430_Data_Files/top_movies.csv\"\n",
        "\n",
        "def save_movies(movies):\n",
        "  with open('top_movies.csv', 'w', newline='') as csvfile:\n",
        "    fieldnames = ['title', 'year', 'rating', 'source']\n",
        "    writer = csv.DictWriter(csvfile, fieldnames=fieldnames)\n",
        "\n",
        "    writer.writeheader()\n",
        "\n",
        "    for movie in movies:\n",
        "      writer.writerow(movie)"
      ],
      "metadata": {
        "id": "0EmL14l_AYmM"
      },
      "execution_count": null,
      "outputs": []
    },
    {
      "cell_type": "markdown",
      "source": [
        "Calls each function to scrape the target sites"
      ],
      "metadata": {
        "id": "TLVp5fr7elqh"
      }
    },
    {
      "cell_type": "markdown",
      "source": [
        "Calls the **read_csv()** function to view scraped info"
      ],
      "metadata": {
        "id": "pkew54-CfHyS"
      }
    },
    {
      "cell_type": "code",
      "source": [
        "df = pd.read_csv('top_movies.csv')"
      ],
      "metadata": {
        "id": "jgyzw3qberxq"
      },
      "execution_count": null,
      "outputs": []
    },
    {
      "cell_type": "markdown",
      "source": [
        "Increase the maximum number of displayed rows"
      ],
      "metadata": {
        "id": "9GqynMsChHNl"
      }
    },
    {
      "cell_type": "code",
      "source": [
        "pd.options.display.max_rows = 9999"
      ],
      "metadata": {
        "id": "O212iRm0hCKt"
      },
      "execution_count": null,
      "outputs": []
    },
    {
      "cell_type": "markdown",
      "source": [
        "Displays all scraped data"
      ],
      "metadata": {
        "id": "Ol5D6UvdfEOJ"
      }
    },
    {
      "cell_type": "code",
      "source": [
        "df = pd.read_csv('imdb_top_250.csv')"
      ],
      "metadata": {
        "id": "RRyYW5NjWlPU"
      },
      "execution_count": null,
      "outputs": []
    },
    {
      "cell_type": "code",
      "source": [
        "import requests\n",
        "import csv\n",
        "from bs4 import BeautifulSoup\n",
        "\n",
        "# Send a GET request to the IMDb Top 250 movies webpage\n",
        "url = \"https://www.imdb.com/chart/top\"\n",
        "response = requests.get(url)\n",
        "\n",
        "# Parse the HTML content using BeautifulSoup\n",
        "soup = BeautifulSoup(response.text, 'html.parser')\n",
        "\n",
        "# Find the table that contains the movie data\n",
        "table = soup.find('table', {'class': 'chart full-width'})\n",
        "\n",
        "# Find all the rows in the table except for the header row\n",
        "rows = table.find_all('tr')[1:]\n",
        "\n",
        "# Define the data structure to store the movie data\n",
        "data = []\n",
        "\n",
        "# Loop through each row in the table and extract the movie data\n",
        "for row in rows:\n",
        "    title = row.find('td', {'class': 'titleColumn'}).find('a').text\n",
        "    year = row.find('span', {'class': 'secondaryInfo'}).text.strip('()')\n",
        "    rating = row.find('td', {'class': 'ratingColumn imdbRating'}).find('strong').text\n",
        "    data.append([title, year, rating])\n",
        "\n",
        "# The path where the csv file will be saved\n",
        "path = \"/content/gdrive/MyDrive/Bellarmine/CS430_Data_Files/top_movies.csv\"\n",
        "\n",
        "# Open the csv file in write mode and specify the path\n",
        "with open(path, 'w', newline='', encoding='utf-8') as file:\n",
        "\n",
        "    # Create a csv writer object\n",
        "    writer = csv.writer(file)\n",
        "\n",
        "    # Write the header row to the csv file\n",
        "    writer.writerow(['Title', 'Year', 'Rating'])\n",
        "\n",
        "    # Write the data rows to the csv file\n",
        "    writer.writerows(data)\n",
        "\n",
        "print(f\"IMDb Top 250 movies data saved to {path}\")\n"
      ],
      "metadata": {
        "colab": {
          "base_uri": "https://localhost:8080/"
        },
        "id": "co4lJmD0Wu0O",
        "outputId": "c4a04722-d922-4273-9888-acea54f41de9"
      },
      "execution_count": null,
      "outputs": [
        {
          "output_type": "stream",
          "name": "stdout",
          "text": [
            "IMDb Top 250 movies data saved to /content/gdrive/MyDrive/Bellarmine/CS430_Data_Files/top_movies.csv\n"
          ]
        }
      ]
    },
    {
      "cell_type": "code",
      "source": [
        "print(df.to_string())"
      ],
      "metadata": {
        "colab": {
          "base_uri": "https://localhost:8080/"
        },
        "id": "6a-RPxlRWl2H",
        "outputId": "08091eb0-cdfa-4466-bba8-0abf6a97fe52"
      },
      "execution_count": null,
      "outputs": [
        {
          "output_type": "stream",
          "name": "stdout",
          "text": [
            "                                                                    title    year  rating source\n",
            "0                                                The Shawshank Redemption  (1994)     9.2   IMDb\n",
            "1                                                           The Godfather  (1972)     9.2   IMDb\n",
            "2                                                         The Dark Knight  (2008)     9.0   IMDb\n",
            "3                                                   The Godfather Part II  (1974)     9.0   IMDb\n",
            "4                                                            12 Angry Men  (1957)     9.0   IMDb\n",
            "5                                                        Schindler's List  (1993)     8.9   IMDb\n",
            "6                           The Lord of the Rings: The Return of the King  (2003)     8.9   IMDb\n",
            "7                                                            Pulp Fiction  (1994)     8.8   IMDb\n",
            "8                       The Lord of the Rings: The Fellowship of the Ring  (2001)     8.8   IMDb\n",
            "9                                          The Good, the Bad and the Ugly  (1966)     8.8   IMDb\n",
            "10                                                           Forrest Gump  (1994)     8.8   IMDb\n",
            "11                                                             Fight Club  (1999)     8.7   IMDb\n",
            "12                                  The Lord of the Rings: The Two Towers  (2002)     8.7   IMDb\n",
            "13                                                              Inception  (2010)     8.7   IMDb\n",
            "14                         Star Wars: Episode V - The Empire Strikes Back  (1980)     8.7   IMDb\n",
            "15                                                             The Matrix  (1999)     8.7   IMDb\n",
            "16                                                             Goodfellas  (1990)     8.7   IMDb\n",
            "17                                        One Flew Over the Cuckoo's Nest  (1975)     8.6   IMDb\n",
            "18                                                                  Se7en  (1995)     8.6   IMDb\n",
            "19                                                          Seven Samurai  (1954)     8.6   IMDb\n",
            "20                                                  It's a Wonderful Life  (1946)     8.6   IMDb\n",
            "21                                               The Silence of the Lambs  (1991)     8.6   IMDb\n",
            "22                                                    Saving Private Ryan  (1998)     8.6   IMDb\n",
            "23                                                            City of God  (2002)     8.6   IMDb\n",
            "24                                                           Interstellar  (2014)     8.6   IMDb\n",
            "25                                                      Life Is Beautiful  (1997)     8.6   IMDb\n",
            "26                                                         The Green Mile  (1999)     8.6   IMDb\n",
            "27                                                              Star Wars  (1977)     8.5   IMDb\n",
            "28                                             Terminator 2: Judgment Day  (1991)     8.5   IMDb\n",
            "29                                                     Back to the Future  (1985)     8.5   IMDb\n",
            "30                                                          Spirited Away  (2001)     8.5   IMDb\n",
            "31                                                            The Pianist  (2002)     8.5   IMDb\n",
            "32                                                                 Psycho  (1960)     8.5   IMDb\n",
            "33                                                               Parasite  (2019)     8.5   IMDb\n",
            "34                                                 Léon: The Professional  (1994)     8.5   IMDb\n",
            "35                                                          The Lion King  (1994)     8.5   IMDb\n",
            "36                                                              Gladiator  (2000)     8.5   IMDb\n",
            "37                                                     American History X  (1998)     8.5   IMDb\n",
            "38                                                           The Departed  (2006)     8.5   IMDb\n",
            "39                                                           The Prestige  (2006)     8.5   IMDb\n",
            "40                                                               Whiplash  (2014)     8.5   IMDb\n",
            "41                                                     The Usual Suspects  (1995)     8.5   IMDb\n",
            "42                                                             Casablanca  (1942)     8.5   IMDb\n",
            "43                                                 Grave of the Fireflies  (1988)     8.5   IMDb\n",
            "44                                                               Harakiri  (1962)     8.5   IMDb\n",
            "45                                                       The Intouchables  (2011)     8.5   IMDb\n",
            "46                                                           Modern Times  (1936)     8.4   IMDb\n",
            "47                                           Once Upon a Time in the West  (1968)     8.4   IMDb\n",
            "48                                                        Cinema Paradiso  (1988)     8.4   IMDb\n",
            "49                                                            Rear Window  (1954)     8.4   IMDb\n",
            "50                                                                  Alien  (1979)     8.4   IMDb\n",
            "51                                                            City Lights  (1931)     8.4   IMDb\n",
            "52                                                         Apocalypse Now  (1979)     8.4   IMDb\n",
            "53                                                                Memento  (2000)     8.4   IMDb\n",
            "54                                                       Django Unchained  (2012)     8.4   IMDb\n",
            "55                                                Raiders of the Lost Ark  (1981)     8.4   IMDb\n",
            "56                                                                 WALL·E  (2008)     8.4   IMDb\n",
            "57                                                    The Lives of Others  (2006)     8.4   IMDb\n",
            "58                                                           Sunset Blvd.  (1950)     8.4   IMDb\n",
            "59                                                         Paths of Glory  (1957)     8.4   IMDb\n",
            "60                                                            The Shining  (1980)     8.4   IMDb\n",
            "61                                                     The Great Dictator  (1940)     8.4   IMDb\n",
            "62                                                 Avengers: Infinity War  (2018)     8.4   IMDb\n",
            "63                                            Witness for the Prosecution  (1957)     8.4   IMDb\n",
            "64                                                                 Aliens  (1986)     8.3   IMDb\n",
            "65                                      Spider-Man: Into the Spider-Verse  (2018)     8.3   IMDb\n",
            "66                                                        American Beauty  (1999)     8.3   IMDb\n",
            "67   Dr. Strangelove or: How I Learned to Stop Worrying and Love the Bomb  (1964)     8.3   IMDb\n",
            "68                                                  The Dark Knight Rises  (2012)     8.3   IMDb\n",
            "69                                                                 Oldboy  (2003)     8.3   IMDb\n",
            "70                                                   Inglourious Basterds  (2009)     8.3   IMDb\n",
            "71                                                                Amadeus  (1984)     8.3   IMDb\n",
            "72                                                                   Coco  (2017)     8.3   IMDb\n",
            "73                                                              Toy Story  (1995)     8.3   IMDb\n",
            "74                                                             Braveheart  (1995)     8.3   IMDb\n",
            "75                                                                  Joker  (2019)     8.3   IMDb\n",
            "76                                                               Das Boot  (1981)     8.3   IMDb\n",
            "77                                                      Avengers: Endgame  (2019)     8.3   IMDb\n",
            "78                                                      Princess Mononoke  (1997)     8.3   IMDb\n",
            "79                                            Once Upon a Time in America  (1984)     8.3   IMDb\n",
            "80                                                      Good Will Hunting  (1997)     8.3   IMDb\n",
            "81                                                             Your Name.  (2016)     8.3   IMDb\n",
            "82                                                    Singin' in the Rain  (1952)     8.3   IMDb\n",
            "83                                                               3 Idiots  (2009)     8.3   IMDb\n",
            "84                                                    Requiem for a Dream  (2000)     8.3   IMDb\n",
            "85                                                           High and Low  (1963)     8.3   IMDb\n",
            "86                                                            Toy Story 3  (2010)     8.3   IMDb\n",
            "87                                                              Capernaum  (2018)     8.3   IMDb\n",
            "88                             Star Wars: Episode VI - Return of the Jedi  (1983)     8.3   IMDb\n",
            "89                                                  2001: A Space Odyssey  (1968)     8.3   IMDb\n",
            "90                                  Eternal Sunshine of the Spotless Mind  (2004)     8.3   IMDb\n",
            "91                                                           Come and See  (1985)     8.3   IMDb\n",
            "92                                                         Reservoir Dogs  (1992)     8.3   IMDb\n",
            "93                                                               The Hunt  (2012)     8.3   IMDb\n",
            "94                                                           Citizen Kane  (1941)     8.2   IMDb\n",
            "95                                                     Lawrence of Arabia  (1962)     8.2   IMDb\n",
            "96                                                                      M  (1931)     8.2   IMDb\n",
            "97                                                     North by Northwest  (1959)     8.2   IMDb\n",
            "98                                                                  Ikiru  (1952)     8.2   IMDb\n",
            "99                                                                Vertigo  (1958)     8.2   IMDb\n",
            "100                                                         The Apartment  (1960)     8.2   IMDb\n",
            "101                                                                Amélie  (2001)     8.2   IMDb\n",
            "102                                                      Double Indemnity  (1944)     8.2   IMDb\n",
            "103                                                    A Clockwork Orange  (1971)     8.2   IMDb\n",
            "104                                                     Full Metal Jacket  (1987)     8.2   IMDb\n",
            "105                                                              Scarface  (1983)     8.2   IMDb\n",
            "106                                                              Hamilton  (2020)     8.2   IMDb\n",
            "107                                                             Incendies  (2010)     8.2   IMDb\n",
            "108                                                                  Heat  (1995)     8.2   IMDb\n",
            "109                                                 To Kill a Mockingbird  (1962)     8.2   IMDb\n",
            "110                                                                    Up  (2009)     8.2   IMDb\n",
            "111                                                             The Sting  (1973)     8.2   IMDb\n",
            "112                                                          A Separation  (2011)     8.2   IMDb\n",
            "113                                                            Metropolis  (1927)     8.2   IMDb\n",
            "114                                                           Taxi Driver  (1976)     8.2   IMDb\n",
            "115                                                     L.A. Confidential  (1997)     8.2   IMDb\n",
            "116                                                              Die Hard  (1988)     8.2   IMDb\n",
            "117                                                                Snatch  (2000)     8.2   IMDb\n",
            "118                                    Indiana Jones and the Last Crusade  (1989)     8.2   IMDb\n",
            "119                                                       Bicycle Thieves  (1948)     8.2   IMDb\n",
            "120                                                     Top Gun: Maverick  (2022)     8.2   IMDb\n",
            "121                                                   Like Stars on Earth  (2007)     8.2   IMDb\n",
            "122                                                                  1917  (2019)     8.2   IMDb\n",
            "123                                                              Downfall  (2004)     8.2   IMDb\n",
            "124                                                                Dangal  (2016)     8.2   IMDb\n",
            "125                                                For a Few Dollars More  (1965)     8.2   IMDb\n",
            "126                                                         Batman Begins  (2005)     8.2   IMDb\n",
            "127                                                               The Kid  (1921)     8.2   IMDb\n",
            "128                                                      Some Like It Hot  (1959)     8.2   IMDb\n",
            "129                                                            The Father  (2020)     8.2   IMDb\n",
            "130                                                         All About Eve  (1950)     8.2   IMDb\n",
            "131                                               The Wolf of Wall Street  (2013)     8.2   IMDb\n",
            "132                                                            Green Book  (2018)     8.2   IMDb\n",
            "133                                                 Judgment at Nuremberg  (1961)     8.2   IMDb\n",
            "134                                                                   Ran  (1985)     8.2   IMDb\n",
            "135                                                                Casino  (1995)     8.2   IMDb\n",
            "136                                                  John Wick: Chapter 4  (2023)     8.2   IMDb\n",
            "137                                                       The Truman Show  (1998)     8.2   IMDb\n",
            "138                                                   There Will Be Blood  (2007)     8.2   IMDb\n",
            "139                                                       Pan's Labyrinth  (2006)     8.2   IMDb\n",
            "140                                                            Unforgiven  (1992)     8.2   IMDb\n",
            "141                                                       The Sixth Sense  (1999)     8.2   IMDb\n",
            "142                                                        Shutter Island  (2010)     8.2   IMDb\n",
            "143                                                      A Beautiful Mind  (2001)     8.2   IMDb\n",
            "144                                                         Jurassic Park  (1993)     8.1   IMDb\n",
            "145                                                               Yojimbo  (1961)     8.1   IMDb\n",
            "146                                      The Treasure of the Sierra Madre  (1948)     8.1   IMDb\n",
            "147                                       Monty Python and the Holy Grail  (1975)     8.1   IMDb\n",
            "148                                                No Country for Old Men  (2007)     8.1   IMDb\n",
            "149                                                      The Great Escape  (1963)     8.1   IMDb\n",
            "150                                                     Kill Bill: Vol. 1  (2003)     8.1   IMDb\n",
            "151                                                              Rashomon  (1950)     8.1   IMDb\n",
            "152                                                             The Thing  (1982)     8.1   IMDb\n",
            "153                                               Spider-Man: No Way Home  (2021)     8.1   IMDb\n",
            "154                                                          Finding Nemo  (2003)     8.1   IMDb\n",
            "155                                                      The Elephant Man  (1980)     8.1   IMDb\n",
            "156                                                             Chinatown  (1974)     8.1   IMDb\n",
            "157                                                           Raging Bull  (1980)     8.1   IMDb\n",
            "158                                                        V for Vendetta  (2005)     8.1   IMDb\n",
            "159                                                    Gone with the Wind  (1939)     8.1   IMDb\n",
            "160                                   Lock, Stock and Two Smoking Barrels  (1998)     8.1   IMDb\n",
            "161                                                     Dial M for Murder  (1954)     8.1   IMDb\n",
            "162                                                            Inside Out  (2015)     8.1   IMDb\n",
            "163                                              The Secret in Their Eyes  (2009)     8.1   IMDb\n",
            "164                                                  Howl's Moving Castle  (2004)     8.1   IMDb\n",
            "165                             Three Billboards Outside Ebbing, Missouri  (2017)     8.1   IMDb\n",
            "166                                                         Trainspotting  (1996)     8.1   IMDb\n",
            "167                                          The Bridge on the River Kwai  (1957)     8.1   IMDb\n",
            "168                                                             Prisoners  (2013)     8.1   IMDb\n",
            "169                                                               Warrior  (2011)     8.1   IMDb\n",
            "170                                                                 Fargo  (1996)     8.1   IMDb\n",
            "171                                                           Gran Torino  (2008)     8.1   IMDb\n",
            "172                                                    My Neighbor Totoro  (1988)     8.1   IMDb\n",
            "173                                                   Catch Me If You Can  (2002)     8.1   IMDb\n",
            "174                                                   Million Dollar Baby  (2004)     8.1   IMDb\n",
            "175                                                    Children of Heaven  (1997)     8.1   IMDb\n",
            "176                                                          Blade Runner  (1982)     8.1   IMDb\n",
            "177                                                         The Gold Rush  (1925)     8.1   IMDb\n",
            "178                                                                 Klaus  (2019)     8.1   IMDb\n",
            "179                          Harry Potter and the Deathly Hallows: Part 2  (2011)     8.1   IMDb\n",
            "180                                                        Before Sunrise  (1995)     8.1   IMDb\n",
            "181                                                      12 Years a Slave  (2013)     8.1   IMDb\n",
            "182                                                     On the Waterfront  (1954)     8.1   IMDb\n",
            "183                                                               Ben-Hur  (1959)     8.1   IMDb\n",
            "184                                              The Grand Budapest Hotel  (2014)     8.1   IMDb\n",
            "185                                                             Gone Girl  (2014)     8.1   IMDb\n",
            "186                                                     Wild Strawberries  (1957)     8.1   IMDb\n",
            "187                                                           The General  (1926)     8.1   IMDb\n",
            "188                                                          Barry Lyndon  (1975)     8.1   IMDb\n",
            "189                                             In the Name of the Father  (1993)     8.1   IMDb\n",
            "190                                                       The Deer Hunter  (1978)     8.1   IMDb\n",
            "191                                                         The Third Man  (1949)     8.1   IMDb\n",
            "192                                                         Hacksaw Ridge  (2016)     8.1   IMDb\n",
            "193                                                     The Wages of Fear  (1953)     8.1   IMDb\n",
            "194                                                    Memories of Murder  (2003)     8.1   IMDb\n",
            "195                                                          Sherlock Jr.  (1924)     8.1   IMDb\n",
            "196                                                            Wild Tales  (2014)     8.1   IMDb\n",
            "197                                          Mr. Smith Goes to Washington  (1939)     8.1   IMDb\n",
            "198                                                    Mad Max: Fury Road  (2015)     8.1   IMDb\n",
            "199                                                          Mary and Max  (2009)     8.1   IMDb\n",
            "200                                                      The Seventh Seal  (1957)     8.1   IMDb\n",
            "201                                              How to Train Your Dragon  (2010)     8.1   IMDb\n",
            "202                                                        Monsters, Inc.  (2001)     8.1   IMDb\n",
            "203                                                    Dead Poets Society  (1989)     8.1   IMDb\n",
            "204                                                                  Jaws  (1975)     8.1   IMDb\n",
            "205                                                                  Room  (2015)     8.1   IMDb\n",
            "206                                                      The Big Lebowski  (1998)     8.1   IMDb\n",
            "207                                                           Tokyo Story  (1953)     8.1   IMDb\n",
            "208                                            The Passion of Joan of Arc  (1928)     8.1   IMDb\n",
            "209                                                        Ford v Ferrari  (2019)     8.0   IMDb\n",
            "210                                                          Hotel Rwanda  (2004)     8.0   IMDb\n",
            "211                                                                 Rocky  (1976)     8.0   IMDb\n",
            "212                                                               Platoon  (1986)     8.0   IMDb\n",
            "213                                                           Ratatouille  (2007)     8.0   IMDb\n",
            "214                                                             Spotlight  (2015)     8.0   IMDb\n",
            "215                                                                 Logan  (2017)     8.0   IMDb\n",
            "216                                                        The Terminator  (1984)     8.0   IMDb\n",
            "217                                                           Stand by Me  (1986)     8.0   IMDb\n",
            "218                                                                  Rush  (2013)     8.0   IMDb\n",
            "219                                                               Network  (1976)     8.0   IMDb\n",
            "220                                                         Before Sunset  (2004)     8.0   IMDb\n",
            "221                                                         Into the Wild  (2007)     8.0   IMDb\n",
            "222                                                      The Wizard of Oz  (1939)     8.0   IMDb\n",
            "223                                           The Best Years of Our Lives  (1946)     8.0   IMDb\n",
            "224                                                         Groundhog Day  (1993)     8.0   IMDb\n",
            "225                                                          The Exorcist  (1973)     8.0   IMDb\n",
            "226                                                       The Incredibles  (2004)     8.0   IMDb\n",
            "227                                                              La haine  (1995)     8.0   IMDb\n",
            "228                                                       Pather Panchali  (1955)     8.0   IMDb\n",
            "229                                                    To Be or Not to Be  (1942)     8.0   IMDb\n",
            "230                Pirates of the Caribbean: The Curse of the Black Pearl  (2003)     8.0   IMDb\n",
            "231                                                   Hachi: A Dog's Tale  (2009)     8.0   IMDb\n",
            "232                                                   The Grapes of Wrath  (1940)     8.0   IMDb\n",
            "233                                                 The Battle of Algiers  (1966)     8.0   IMDb\n",
            "234                                                              Jai Bhim  (2021)     8.0   IMDb\n",
            "235                                                  My Father and My Son  (2005)     8.0   IMDb\n",
            "236                                                         Amores Perros  (2000)     8.0   IMDb\n",
            "237                                                               Rebecca  (1940)     8.0   IMDb\n",
            "238                                                        Cool Hand Luke  (1967)     8.0   IMDb\n",
            "239                                                        The Handmaiden  (2016)     8.0   IMDb\n",
            "240                                                         The 400 Blows  (1959)     8.0   IMDb\n",
            "241                                                    The Sound of Music  (1965)     8.0   IMDb\n",
            "242                                                 It Happened One Night  (1934)     8.0   IMDb\n",
            "243                                                               Persona  (1966)     8.0   IMDb\n",
            "244                                                         Life of Brian  (1979)     8.0   IMDb\n",
            "245                                                        The Iron Giant  (1999)     8.0   IMDb\n",
            "246                                                              The Help  (2011)     8.0   IMDb\n",
            "247                                                           Dersu Uzala  (1975)     8.0   IMDb\n",
            "248                                                               Aladdin  (1992)     8.0   IMDb\n",
            "249                                                    Dances with Wolves  (1990)     8.0   IMDb\n"
          ]
        }
      ]
    }
  ]
}