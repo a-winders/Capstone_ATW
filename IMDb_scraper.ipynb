{
  "nbformat": 4,
  "nbformat_minor": 0,
  "metadata": {
    "colab": {
      "provenance": [],
      "authorship_tag": "ABX9TyN0CncC06bvga/nqk1xkZvi",
      "include_colab_link": true
    },
    "kernelspec": {
      "name": "python3",
      "display_name": "Python 3"
    },
    "language_info": {
      "name": "python"
    }
  },
  "cells": [
    {
      "cell_type": "markdown",
      "metadata": {
        "id": "view-in-github",
        "colab_type": "text"
      },
      "source": [
        "<a href=\"https://colab.research.google.com/github/a-winders/Capstone_ATW/blob/main/IMDb_scraper.ipynb\" target=\"_parent\"><img src=\"https://colab.research.google.com/assets/colab-badge.svg\" alt=\"Open In Colab\"/></a>"
      ]
    },
    {
      "cell_type": "code",
      "execution_count": 1,
      "metadata": {
        "id": "06kddWjwadI1"
      },
      "outputs": [],
      "source": [
        "import requests\n",
        "from bs4 import BeautifulSoup \n",
        "from requests import get\n",
        "from warnings import warn\n",
        "from time import sleep\n",
        "from random import randint\n",
        "import seaborn as sns\n",
        "import numpy as np\n",
        "import pandas as pd\n",
        "import csv"
      ]
    },
    {
      "cell_type": "code",
      "source": [
        "from google.colab import drive\n",
        "drive.mount('/content/gdrive')"
      ],
      "metadata": {
        "colab": {
          "base_uri": "https://localhost:8080/"
        },
        "id": "3ll1IF-fapVm",
        "outputId": "901b3e8a-4cee-45a5-9672-dd6dbea51d46"
      },
      "execution_count": 2,
      "outputs": [
        {
          "output_type": "stream",
          "name": "stdout",
          "text": [
            "Mounted at /content/gdrive\n"
          ]
        }
      ]
    },
    {
      "cell_type": "code",
      "source": [
        "\n",
        "\n",
        "\n",
        "# \n",
        "with open(path, 'w', newline='', encoding='utf-8') as file:\n",
        "\n",
        "    # Create a csv writer object\n",
        "    writer = csv.writer(file)\n",
        "\n",
        "    # Write the header row to the csv file\n",
        "    writer.writerow(['Title', 'Year', 'Rating'])\n",
        "\n",
        "    # Write the data rows to the csv file\n",
        "    writer.writerows(data)\n",
        "\n",
        "print(f\"IMDb Top 250 movies data saved to {path}\")\n"
      ],
      "metadata": {
        "colab": {
          "base_uri": "https://localhost:8080/"
        },
        "id": "co4lJmD0Wu0O",
        "outputId": "df744098-f6d0-4928-fa67-36f0c3c288f7"
      },
      "execution_count": 3,
      "outputs": [
        {
          "output_type": "stream",
          "name": "stdout",
          "text": [
            "IMDb Top 250 movies data saved to /content/gdrive/MyDrive/Bellarmine/CS430_Data_Files/top_movies.csv\n"
          ]
        }
      ]
    },
    {
      "cell_type": "markdown",
      "source": [
        "\n",
        "Send a GET request to the IMDb Top 250 movies webpage"
      ],
      "metadata": {
        "id": "F61UuYXPL3yK"
      }
    },
    {
      "cell_type": "code",
      "source": [
        "url = \"https://www.imdb.com/chart/top\"\n",
        "response = requests.get(url)"
      ],
      "metadata": {
        "id": "TD0HnMS7L1kf"
      },
      "execution_count": 4,
      "outputs": []
    },
    {
      "cell_type": "markdown",
      "source": [
        "Parses the HTML content using BeautifulSoup"
      ],
      "metadata": {
        "id": "EoWJc9gEL8oj"
      }
    },
    {
      "cell_type": "code",
      "source": [
        "soup = BeautifulSoup(response.text, 'html.parser')"
      ],
      "metadata": {
        "id": "MLwE9I0nL_cg"
      },
      "execution_count": 5,
      "outputs": []
    },
    {
      "cell_type": "markdown",
      "source": [
        "Locates the table that contains the movie data"
      ],
      "metadata": {
        "id": "Y-YdCEhdMCYJ"
      }
    },
    {
      "cell_type": "code",
      "source": [
        "table = soup.find('table', {'class': 'chart full-width'})"
      ],
      "metadata": {
        "id": "Kn0CtpOnMGPB"
      },
      "execution_count": 6,
      "outputs": []
    },
    {
      "cell_type": "markdown",
      "source": [
        "Identifies all rows in the table except for the header row"
      ],
      "metadata": {
        "id": "--45rAU3MIJm"
      }
    },
    {
      "cell_type": "code",
      "source": [
        "rows = table.find_all('tr')[1:]"
      ],
      "metadata": {
        "id": "m4s_IiFcMNdD"
      },
      "execution_count": 7,
      "outputs": []
    },
    {
      "cell_type": "markdown",
      "source": [
        "Stores the scraped data into an array"
      ],
      "metadata": {
        "id": "wEv1Gu8wMPOO"
      }
    },
    {
      "cell_type": "code",
      "source": [
        "data = []"
      ],
      "metadata": {
        "id": "i5Hp6pe7MSQG"
      },
      "execution_count": null,
      "outputs": []
    },
    {
      "cell_type": "markdown",
      "source": [
        "Loops through each row in the table to pull the data"
      ],
      "metadata": {
        "id": "MhxabTbEMWaM"
      }
    },
    {
      "cell_type": "code",
      "source": [
        "for row in rows:\n",
        "    title = row.find('td', {'class': 'titleColumn'}).find('a').text\n",
        "    year = row.find('span', {'class': 'secondaryInfo'}).text.strip('()')\n",
        "    rating = row.find('td', {'class': 'ratingColumn imdbRating'}).find('strong').text\n",
        "    data.append([title, year, rating])"
      ],
      "metadata": {
        "id": "sMqsEBUDMcaY"
      },
      "execution_count": 8,
      "outputs": []
    },
    {
      "cell_type": "markdown",
      "source": [
        "Specifies the path where the scraped data should be stored"
      ],
      "metadata": {
        "id": "4Y7zlCIjMezE"
      }
    },
    {
      "cell_type": "code",
      "source": [
        "path = \"/content/gdrive/MyDrive/Bellarmine/CS430_Data_Files/top_movies.csv\""
      ],
      "metadata": {
        "id": "2mvSDhpvMjOg"
      },
      "execution_count": 9,
      "outputs": []
    },
    {
      "cell_type": "markdown",
      "source": [
        "Opens the csv file in *write* mode"
      ],
      "metadata": {
        "id": "gRQGeRRgMsdK"
      }
    },
    {
      "cell_type": "code",
      "source": [
        "with open(path, 'w', newline='', encoding='utf-8') as file:\n",
        "\n",
        "    # Create a writer object\n",
        "    writer = csv.writer(file)\n",
        "\n",
        "    # Writes the head row to the csv file\n",
        "    writer.writerow(['Title', 'Year', 'Rating'])\n",
        "\n",
        "    # Writes the other data rows to the csv file\n",
        "    writer.writerows(data)\n",
        "\n",
        "# Displays confirmation message stating scrape was successfully saved\n",
        "print(f\"IMDb Top 250 movies data saved to {path}\")"
      ],
      "metadata": {
        "colab": {
          "base_uri": "https://localhost:8080/"
        },
        "id": "8o6VlR4xMwEV",
        "outputId": "3bef3d71-2b7a-4210-dd11-7cb44d0ff920"
      },
      "execution_count": 10,
      "outputs": [
        {
          "output_type": "stream",
          "name": "stdout",
          "text": [
            "IMDb Top 250 movies data saved to /content/gdrive/MyDrive/Bellarmine/CS430_Data_Files/top_movies.csv\n"
          ]
        }
      ]
    }
  ]
}